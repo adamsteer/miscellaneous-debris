{
 "cells": [
  {
   "cell_type": "markdown",
   "metadata": {},
   "source": [
    "## Tinkering with times and interpolating positions\n",
    "\n",
    "...answering this question:\n",
    "http://gis.stackexchange.com/questions/210548/how-to-calculate-location-at-given-time-from-gpx-track/210566#210566"
   ]
  },
  {
   "cell_type": "code",
   "execution_count": 1,
   "metadata": {
    "collapsed": true
   },
   "outputs": [],
   "source": [
    "#some test data\n",
    "\n",
    "#19:32:53   1\n",
    "#19:34:26   2 \n",
    "#19:40:43   3 \n",
    "#19:40:47   4\n",
    "#19:49:21   5\n",
    "        \n",
    "#19:30:29   51.4463364054   -2.4129919242\n",
    "#19:37:44   51.4464039635   -2.4128513597\n",
    "#19:37:59   51.4464663249   -2.4127552193\n",
    "#19:38:01   51.4464837592   -2.4127533752\n",
    "#19:55:08   51.4465564303   -2.4127591588"
   ]
  },
  {
   "cell_type": "code",
   "execution_count": 30,
   "metadata": {
    "collapsed": true
   },
   "outputs": [],
   "source": [
    "import numpy as np\n",
    "import pandas as pd"
   ]
  },
  {
   "cell_type": "markdown",
   "metadata": {},
   "source": [
    "## Most of this is getting data into something useable...\n",
    "\n",
    "..a Pandas dataframe is not really needed, but i needed the practice!"
   ]
  },
  {
   "cell_type": "code",
   "execution_count": 3,
   "metadata": {
    "collapsed": false
   },
   "outputs": [],
   "source": [
    "filetimes = pd.DataFrame(columns=['time','fileID'])"
   ]
  },
  {
   "cell_type": "code",
   "execution_count": 4,
   "metadata": {
    "collapsed": true
   },
   "outputs": [],
   "source": [
    "filetimes.times=['19:32:53', '19:34:26', '19:40:43', '19:40:47', '19:49:21']"
   ]
  },
  {
   "cell_type": "code",
   "execution_count": 5,
   "metadata": {
    "collapsed": true
   },
   "outputs": [],
   "source": [
    "filetimes.fileID=[1,2,3,4,5]"
   ]
  },
  {
   "cell_type": "code",
   "execution_count": 6,
   "metadata": {
    "collapsed": true
   },
   "outputs": [],
   "source": [
    "locations = pd.DataFrame(columns=['time','lon', 'lat'])"
   ]
  },
  {
   "cell_type": "code",
   "execution_count": 7,
   "metadata": {
    "collapsed": true
   },
   "outputs": [],
   "source": [
    "locations.time = ['19:30:29','19:37:44', '19:37:59', '19:38:01', '19:55:08']"
   ]
  },
  {
   "cell_type": "code",
   "execution_count": 8,
   "metadata": {
    "collapsed": true
   },
   "outputs": [],
   "source": [
    "locations.lat = [51.4463364054,51.4464039635,51.4464663249,51.4464837592,51.4465564303]"
   ]
  },
  {
   "cell_type": "code",
   "execution_count": 60,
   "metadata": {
    "collapsed": true
   },
   "outputs": [],
   "source": [
    "locations.lon = [-2.4129919242,-2.4128513597,-2.4127552193,-2.4127533752,-2.4127591588]"
   ]
  },
  {
   "cell_type": "markdown",
   "metadata": {},
   "source": [
    "### OK we have a dataframe. Now we need to:\n",
    "- make timestamps useable, I like seconds of day\n",
    "- set up an interpolation along time at a useful interval (here, seconds)\n",
    "- interpolate X and Y positions at each interval\n",
    "- choose positions from the interpolated set which match file recording times"
   ]
  },
  {
   "cell_type": "markdown",
   "metadata": {},
   "source": [
    "### we grab a nifty hh:mm:ss to seconds function and apply it"
   ]
  },
  {
   "cell_type": "code",
   "execution_count": 10,
   "metadata": {
    "collapsed": true
   },
   "outputs": [],
   "source": [
    "#http://stackoverflow.com/questions/23022293/fast-conversion-of-time-string-hourminsec-millsecs-to-float\n",
    "def to_seconds(s):\n",
    "    hr, min, sec = [float(x) for x in s.split(':')]\n",
    "    return hr*3600 + min*60 + sec"
   ]
  },
  {
   "cell_type": "code",
   "execution_count": 11,
   "metadata": {
    "collapsed": false
   },
   "outputs": [],
   "source": [
    "# here we use a for loop, later on we will do the same in a list comprehension one liner!\n",
    "\n",
    "# convert position times to seconds\n",
    "pos_secs=[]\n",
    "for t in locations.time:\n",
    "    pos_secs.append(to_seconds(t))\n",
    "pos_secs = np.array(pos_secs)"
   ]
  },
  {
   "cell_type": "code",
   "execution_count": 12,
   "metadata": {
    "collapsed": false
   },
   "outputs": [],
   "source": [
    "# convert file times to seconds\n",
    "file_secs=[]\n",
    "for t in filetimes.times:\n",
    "    file_secs.append(to_seconds(t))\n",
    "file_secs = np.array(file_secs)"
   ]
  },
  {
   "cell_type": "markdown",
   "metadata": {},
   "source": [
    "#### find out where the biggest dataset is - we will need to use the longest series for the next step"
   ]
  },
  {
   "cell_type": "code",
   "execution_count": 14,
   "metadata": {
    "collapsed": false
   },
   "outputs": [
    {
     "name": "stdout",
     "output_type": "stream",
     "text": [
      "max file secs: 70373.0, max file time: 71361.0\n"
     ]
    }
   ],
   "source": [
    "print('max file secs: {}, max file time: {}'.format(min(file_secs), max(file_secs)))"
   ]
  },
  {
   "cell_type": "code",
   "execution_count": 63,
   "metadata": {
    "collapsed": false
   },
   "outputs": [
    {
     "name": "stdout",
     "output_type": "stream",
     "text": [
      "max pos time: 70373.0, min pos time: 71361.0\n"
     ]
    }
   ],
   "source": [
    "print('max pos time: {}, min pos time: {}'.format(min(file_secs), max(file_secs)))"
   ]
  },
  {
   "cell_type": "markdown",
   "metadata": {},
   "source": [
    "#### both are equal, so we will use positions. If one sampling period were longer, I'd use that.\n",
    "Here we basically fill in times, so that there is a timestamp for every second between our start and stop times"
   ]
  },
  {
   "cell_type": "code",
   "execution_count": 16,
   "metadata": {
    "collapsed": true
   },
   "outputs": [],
   "source": [
    "new_times = np.arange(min(pos_secs), max(pos_secs)+1, 1)"
   ]
  },
  {
   "cell_type": "code",
   "execution_count": 65,
   "metadata": {
    "collapsed": false
   },
   "outputs": [
    {
     "data": {
      "text/plain": [
       "array([ 70229.,  70230.,  70231., ...,  71706.,  71707.,  71708.])"
      ]
     },
     "execution_count": 65,
     "metadata": {},
     "output_type": "execute_result"
    }
   ],
   "source": [
    "# just takign a look, to see that we have a series of times now at one second intervals for all the time range\n",
    "new_times"
   ]
  },
  {
   "cell_type": "markdown",
   "metadata": {},
   "source": [
    "#### now we interpolate positions such that at every second, we have a lat and lon"
   ]
  },
  {
   "cell_type": "code",
   "execution_count": 20,
   "metadata": {
    "collapsed": false
   },
   "outputs": [],
   "source": [
    "interp_lats = np.interp(new_times, pos_secs, locations.lat)"
   ]
  },
  {
   "cell_type": "code",
   "execution_count": 66,
   "metadata": {
    "collapsed": false
   },
   "outputs": [],
   "source": [
    "interp_lons = np.interp(new_times, pos_secs, locations.lon)"
   ]
  },
  {
   "cell_type": "markdown",
   "metadata": {},
   "source": [
    "#### Nearly there!  We select an index - finding out where in our new one-second-interval time series we should look for entries which match our file times"
   ]
  },
  {
   "cell_type": "code",
   "execution_count": 68,
   "metadata": {
    "collapsed": true
   },
   "outputs": [],
   "source": [
    "c = np.in1d(new_times,file_secs)"
   ]
  },
  {
   "cell_type": "markdown",
   "metadata": {},
   "source": [
    "#### and apply this index to our equally-spaced, interpolated lat and lon arrays to find positions which match file recording times"
   ]
  },
  {
   "cell_type": "code",
   "execution_count": 23,
   "metadata": {
    "collapsed": false
   },
   "outputs": [
    {
     "data": {
      "text/plain": [
       "array([-2.41294539, -2.41291534, -2.41275429, -2.41275431, -2.4127572 ])"
      ]
     },
     "execution_count": 23,
     "metadata": {},
     "output_type": "execute_result"
    }
   ],
   "source": [
    "new_lons = interp_lons[np.where(c)]\n",
    "new_lons"
   ]
  },
  {
   "cell_type": "code",
   "execution_count": 70,
   "metadata": {
    "collapsed": false
   },
   "outputs": [
    {
     "data": {
      "text/plain": [
       "array([ 51.44635877,  51.44637321,  51.44649522,  51.44649551,  51.44653188])"
      ]
     },
     "execution_count": 70,
     "metadata": {},
     "output_type": "execute_result"
    }
   ],
   "source": [
    "new_lats = interp_lats[np.where(c)]\n",
    "new_lats"
   ]
  },
  {
   "cell_type": "markdown",
   "metadata": {},
   "source": [
    "### So how did we do?\n",
    "Lets check by visualising our original positions from the GPX trace (blue) and the interpolated positions which match file recording times (red)"
   ]
  },
  {
   "cell_type": "code",
   "execution_count": 25,
   "metadata": {
    "collapsed": true
   },
   "outputs": [],
   "source": [
    "import matplotlib.pyplot as plt\n",
    "%matplotlib inline"
   ]
  },
  {
   "cell_type": "code",
   "execution_count": 72,
   "metadata": {
    "collapsed": false
   },
   "outputs": [
    {
     "data": {
      "text/plain": [
       "[<matplotlib.lines.Line2D at 0x11ebd2ba8>]"
      ]
     },
     "execution_count": 72,
     "metadata": {},
     "output_type": "execute_result"
    },
    {
     "data": {
      "image/png": "[encoded data removed]",
      "text/plain": [
       "<matplotlib.figure.Figure at 0x11ebd29b0>"
      ]
     },
     "metadata": {},
     "output_type": "display_data"
    }
   ],
   "source": [
    "plt.plot(locations.lat, locations.lon, '-o')\n",
    "#plt.plot(interp_lats, interp_lons, '-o')\n",
    "plt.plot(new_lats, new_lons, 'ro')"
   ]
  },
  {
   "cell_type": "markdown",
   "metadata": {},
   "source": [
    "### That looks allright! So let's make a function to do the same job"
   ]
  },
  {
   "cell_type": "code",
   "execution_count": 73,
   "metadata": {
    "collapsed": true
   },
   "outputs": [],
   "source": [
    "###OK lets make a function to handle that all\n",
    "#requires:\n",
    "# np.interp1d\n",
    "# np.in1d\n",
    "# np.arange\n",
    "# to_seconds:\n",
    "#http://stackoverflow.com/questions/23022293/fast-conversion-of-time-string-hourminsec-millsecs-to-float\n",
    "def to_seconds(s):\n",
    "    hr, min, sec = [float(x) for x in s.split(':')]\n",
    "    return hr*3600 + min*60 + sec\n",
    "\n",
    "def interp_pos(time1, time2, interval, x, y):\n",
    "    #time1 is the interpolate_to set of times, ie we want to interpolate our positions\n",
    "    # to times in time1\n",
    "    #We abstract lat and lon to X and Y, you might want to pass metres...\n",
    "    \n",
    "    #converting hh:mm:ss to seconds-of-day as a list comprehension\n",
    "    t1_secs = [to_seconds(t) for t in time1]\n",
    "    t1_secs = np.array(t1_secs) \n",
    "    \n",
    "    t2_secs = [to_seconds(t) for t in time2]\n",
    "    t2_secs = np.array(t2_secs) \n",
    "    \n",
    "    #this gives us the set of times which we interpolate to!\n",
    "    new_times = np.arange(min(t1_secs), max(t1_secs)+interval, interval)\n",
    "    \n",
    "    #now make a series of X data to match the new times\n",
    "    interp_x = np.interp(new_times, t2_secs, x)\n",
    "    interp_y = np.interp(new_times, t2_secs, y)\n",
    "    \n",
    "    #...find out where entries from t1 match the new array of times:\n",
    "    matches = np.in1d(new_times,t1_secs)\n",
    "    \n",
    "    #and pick new X and y coords\n",
    "    new_x = interp_x[np.where(matches)]\n",
    "    new_y = interp_y[np.where(matches)]\n",
    "\n",
    "    thelen = len(t1_secs)\n",
    "    #then return the set of timestamps from dataset 1, with interpolated positions\n",
    "    return np.hstack((t1_secs.reshape(thelen,1), new_x.reshape(thelen,1), new_y.reshape(thelen,1)))\n",
    "    "
   ]
  },
  {
   "cell_type": "markdown",
   "metadata": {},
   "source": [
    "#### Execute the function"
   ]
  },
  {
   "cell_type": "code",
   "execution_count": 74,
   "metadata": {
    "collapsed": false
   },
   "outputs": [],
   "source": [
    "file_positions = interp_pos(filetimes.times, locations.time, 1, locations.lon, locations.lat)"
   ]
  },
  {
   "cell_type": "markdown",
   "metadata": {},
   "source": [
    "#### inspect results"
   ]
  },
  {
   "cell_type": "code",
   "execution_count": 75,
   "metadata": {
    "collapsed": false
   },
   "outputs": [
    {
     "data": {
      "text/plain": [
       "array([[  7.03730000e+04,  -2.41294539e+00,   5.14463588e+01],\n",
       "       [  7.04660000e+04,  -2.41291534e+00,   5.14463732e+01],\n",
       "       [  7.08430000e+04,  -2.41275429e+00,   5.14464952e+01],\n",
       "       [  7.08470000e+04,  -2.41275431e+00,   5.14464955e+01],\n",
       "       [  7.13610000e+04,  -2.41275720e+00,   5.14465319e+01]])"
      ]
     },
     "execution_count": 75,
     "metadata": {},
     "output_type": "execute_result"
    }
   ],
   "source": [
    "file_positions"
   ]
  },
  {
   "cell_type": "markdown",
   "metadata": {},
   "source": [
    "#### ...and plot for good measure"
   ]
  },
  {
   "cell_type": "code",
   "execution_count": 59,
   "metadata": {
    "collapsed": false
   },
   "outputs": [
    {
     "data": {
      "text/plain": [
       "[<matplotlib.lines.Line2D at 0x11e92f710>]"
      ]
     },
     "execution_count": 59,
     "metadata": {},
     "output_type": "execute_result"
    },
    {
     "data": {
      "image/png": "[encoded data removed]",
      "text/plain": [
       "<matplotlib.figure.Figure at 0x11e92f860>"
      ]
     },
     "metadata": {},
     "output_type": "display_data"
    }
   ],
   "source": [
    "plt.plot(locations.lat, locations.lon, '-o')\n",
    "#plt.plot(interp_lats, interp_lons, '-o')\n",
    "plt.plot(file_positions[:,2], file_positions[:,1], 'ro')"
   ]
  },
  {
   "cell_type": "markdown",
   "metadata": {},
   "source": [
    "## Caveats\n",
    "\n",
    "This approach has a few issues to think about:\n",
    "- You might lose some accuracy interpolating lats and lons - in that case converting to metres might work, or using more sophisticated interploation tools\n",
    "- It doesn't handle all possible times. We assume 24-hour clocks, and no crossing over midnight.\n",
    "- There are probably many more clever ways to code the same thing in far fewer, faster lines..."
   ]
  },
  {
   "cell_type": "code",
   "execution_count": null,
   "metadata": {
    "collapsed": true
   },
   "outputs": [],
   "source": []
  }
 ],
 "metadata": {
  "kernelspec": {
   "display_name": "Python 3",
   "language": "python",
   "name": "python3"
  },
  "language_info": {
   "codemirror_mode": {
    "name": "ipython",
    "version": 3
   },
   "file_extension": ".py",
   "mimetype": "text/x-python",
   "name": "python",
   "nbconvert_exporter": "python",
   "pygments_lexer": "ipython3",
   "version": "3.5.2"
  }
 },
 "nbformat": 4,
 "nbformat_minor": 0
}
